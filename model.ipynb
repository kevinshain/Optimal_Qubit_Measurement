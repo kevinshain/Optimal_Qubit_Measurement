{
 "cells": [
  {
   "cell_type": "markdown",
   "metadata": {},
   "source": [
    "# Model\n",
    "\n",
    "## Kevin Shain\n",
    "\n",
    "### 05/05/2016"
   ]
  },
  {
   "cell_type": "code",
   "execution_count": 2,
   "metadata": {
    "collapsed": false
   },
   "outputs": [],
   "source": [
    "%matplotlib inline \n",
    "\n",
    "import matplotlib\n",
    "import numpy as np\n",
    "import matplotlib.pyplot as plt\n",
    "from numpy.random import random as rng\n",
    "import math\n",
    "from numpy import pi\n",
    "from qubitparameterestimation import myio\n",
    "from qubitparameterestimation import model"
   ]
  },
  {
   "cell_type": "markdown",
   "metadata": {},
   "source": [
    "# Table of Contents\n",
    "* [Generative Model](#Generative-Models)\n",
    "    * [Long time-scale errors](#Long-time-scale-errors)\n",
    "\t* [Model with drift and diffusion](#Model-with-drift-and-diffusion)\n",
    "* [Likelihood function](#Likelihood-function)\n",
    "* [Fourier Representation](#Fourier-Representation)\n",
    "    * [Product as a sum](#Product-as-a-sum)\n",
    "    * [Iterative update](#Iterative-update)\n",
    "    * [Drift and diffusion](#Drift-and-diffusion)\n",
    "* [Expectation values](#Expectation-values)\n",
    "    * [Expected ΔBz](#Expected-ΔBz)\n",
    "    * [Expected variance](#Expected-variance)\n",
    "* [Adaptive evolution time algorithm](#Adaptive-evolution-time-algorithm)\n"
   ]
  },
  {
   "cell_type": "markdown",
   "metadata": {},
   "source": [
    "# Generative Model"
   ]
  },
  {
   "cell_type": "markdown",
   "metadata": {},
   "source": [
    "Because each measurement of a qubit probabilistically projects the a superposition state that exists somewhere on the qubit's Bloch sphere onto either the singlet or triplet state that is read out, my model is inherently probabilistic. Therefore, beyond adding random noise to the model, my model will generate probabilities of each measurement outcome and then randomly generate singlet(+1) or triplet(-1) for the measurement outcome.\n",
    "\n",
    "Another important aspect to these models is that there are different timescales for different effects. Some parameters, like measurement error, state preparation error, and non-orthogonal axis of rotation, are consistent throughout the lifetime of the qubit. This means that we can accurately measure values for those error parameters over thousands or millions of measurements. This means that for real-time or limited measurement purposes, we can focus on the parameters that vary over a shorter time scale, like $\\Delta B_z$ and its drift and diffusion. This tends to vary significantly on a time scale of a millisecond compared to measurements that take ~4 microseconds."
   ]
  },
  {
   "cell_type": "markdown",
   "metadata": {},
   "source": [
    "## Long time-scale errors"
   ]
  },
  {
   "cell_type": "markdown",
   "metadata": {},
   "source": [
    "In general, we can say that the state of our qubit without noise is,\n",
    "\n",
    "$$\\left|\\psi(t)\\right>=\\cos(\\pi\\Delta B_z t)\\left|+\\right>-i\\sin(\\pi\\Delta B_z t)\\left|-\\right>$$\n",
    "\n",
    "The probabilities for a given outcome as it depends on $\\Delta B_z$ is therefore,\n",
    "\n",
    "$$P(+|\\Delta B_z)=\\cos^2(\\pi\\Delta B_z t)$$\n",
    "$$P(-|\\Delta B_z)=\\sin^2(\\pi\\Delta B_z t)$$"
   ]
  },
  {
   "cell_type": "markdown",
   "metadata": {},
   "source": [
    "This simple model of the probabilities doesn't consider any errors, but it is important to note that it will still generate a random measurement outcome with defined probabilities so we will not be able to fit data from this model exactly even if we know $\\Delta B_z$. The first source of error that I'll consider is measurement error. Essentially, the readout of the qubit is done by measuring voltage across another quantum dot. This gives well differentiated Gaussian peaks of voltage depending on the qubit state. These peaks are then thresholded so that the singlet(triplet) peak is marked +(-). This thresholding process is imperfect as there is some small chance that a tail from the singlet Gaussian will leak into the triplet region or vice versa. Ideally, I would not do the thresholding as that is an extra step of data processing. It is unclear whether the added complexity of using raw voltage measurements is worth the computational cost, but I'll make a model that generates voltage measurements later so that comparisons can be made. For now, I'll simply work with $\\pm$ but include a measurement error term.\n",
    "\n",
    "With measurement error, the probability of measuring a + is essentially the probability of measuring + correctly plus the probability of measuring - incorrectly. If we say that the probability of incorrectly measuring +(-) is $\\eta_+(\\eta_-)$, this gives us,\n",
    "\n",
    "$$P(+|\\Delta B_z)=(1-\\eta_+)\\cos^2(\\pi\\Delta B_z t)+\\eta_-\\sin^2(\\pi\\Delta B_z t)$$\n",
    "$$P(-|\\Delta B_z)=\\eta_+\\cos^2(\\pi\\Delta B_z t)+(1-\\eta_-)\\sin^2(\\pi\\Delta B_z t)$$"
   ]
  },
  {
   "cell_type": "markdown",
   "metadata": {},
   "source": [
    "We can account for state preparation error in a similar way. The initial state would ideally be purely singlet every time, but it actually is prepared in the triplet state some small percentage of the time. This means that the initial density matrix is,\n",
    "\n",
    "$$\\begin{pmatrix}\n",
    " 1-\\epsilon & 0 \\\\ \n",
    " 0 & \\epsilon\n",
    " \\end{pmatrix}$$\n",
    " \n",
    "Accounting for just state preparation error, we would have,\n",
    "\n",
    "$$P(+|\\Delta B_z)=(1-\\epsilon)\\cos^2(\\pi\\Delta B_z t)+\\epsilon\\sin^2(\\pi\\Delta B_z t)$$\n",
    "$$P(-|\\Delta B_z)=\\epsilon\\cos^2(\\pi\\Delta B_z t)+(1-\\epsilon)\\sin^2(\\pi\\Delta B_z t)$$"
   ]
  },
  {
   "cell_type": "markdown",
   "metadata": {},
   "source": [
    "Finally, we have axis of rotation error. This accounts for small differences in the electric potential between the two quantum dots that make up the qubit. This shifts the axis of rotation on the Bloch sphere about which the state vector rotates. This error alone leads to,\n",
    "\n",
    "$$P(+|\\Delta B_z)=\\cos^2(\\pi\\Delta B_z t)+\\delta\\sin^2(\\pi\\Delta B_z t)$$\n",
    "$$P(-|\\Delta B_z)=(1-\\delta)\\sin^2(\\pi\\Delta B_z t)$$"
   ]
  },
  {
   "cell_type": "markdown",
   "metadata": {},
   "source": [
    "Putting the all of the errors together and using $\\cos^2(x)-\\sin^2(x)=\\cos(2x)$, we get,\n",
    "\n",
    "$$P(+|\\Delta B_z)=\\eta_-+\\frac{1}{2}(1-\\eta_+-\\eta_-)[1+(1-2\\epsilon)(\\delta+(1-\\delta)\\cos(2\\pi\\Delta B_zt))]$$ \n",
    "$$P(-|\\Delta B_z)=\\eta_++\\frac{1}{2}(1-\\eta_+-\\eta_-)[1-(1-2\\epsilon)(\\delta+(1-\\delta)\\cos(2\\pi\\Delta B_zt))]$$ \n"
   ]
  },
  {
   "cell_type": "markdown",
   "metadata": {},
   "source": [
    "We can combine these probabilities into one if we say the result of any measurement is $m_k=\\pm 1$ so,\n",
    "\n",
    "$$P(m_k|\\Delta B_z)=\\eta_-+\\frac{1}{2}(1-\\eta_+-\\eta_-)[1+m_k(1-\\epsilon)(\\delta+(1-\\delta)\\cos(2\\pi\\Delta B_zt))]$$\n",
    "\n",
    "We can reparameterize our long time-scale errors using\n",
    "\n",
    "$$\\alpha=\\eta_--\\eta_++(1-\\eta_--\\eta_+)(\\delta-2\\epsilon\\delta)$$\n",
    "$$\\beta=(1-\\eta_--\\eta_+)(1-\\delta)(1-2\\epsilon)$$\n",
    "\n",
    "to get,\n",
    "\n",
    "$$P(m_k|\\Delta B_z)=\\frac{1}{2}[1+m_k(\\alpha+\\beta\\cos(2\\pi\\Delta B_zt))]$$\n"
   ]
  },
  {
   "cell_type": "markdown",
   "metadata": {},
   "source": [
    "## Model with drift and diffusion"
   ]
  },
  {
   "cell_type": "markdown",
   "metadata": {},
   "source": [
    "To address drift in $\\Delta B_z$, we can use the approximation that $\\Delta B_z$ is constant within the measurement evolution time of a single measurement. A reasonable estimate of the drift is $25kHz/\\mu s$. The evolution times of a single measurement are 10-100 ns which justifies this approximation. However, each measurement in total takes $~4\\mu s$ so we have to take into account the drift between measurements."
   ]
  },
  {
   "cell_type": "markdown",
   "metadata": {},
   "source": [
    "To address diffusion in $\\Delta B_z$, we again use the approximation that $\\Delta B_z$ is constant within the measurement evolution time of a single measurement. A reasonable estimate of the diffusion is $7 kHz^2/\\mu s$. We want to first define a function that executes a random walk of $\\Delta B_z$ that has the desired diffusion constant. This means, that we want,\n",
    "\n",
    "$$\\frac{\\partial P}{\\partial t}=D\\frac{\\partial^2 P}{\\partial x^2}$$\n",
    "\n",
    "We can solve this to say,\n",
    "\n",
    "$$P(x,t) = \\frac{1}{\\sqrt{4\\pi Dt}}e^{-x^2/4Dt}$$\n",
    "\n",
    "Therefore, if we say that each step in our random walk is $1\\mu s$, we can use our probability distribution to choose an updated $\\Delta B_z$ such that it follows the proper rate of diffusion."
   ]
  },
  {
   "cell_type": "code",
   "execution_count": 3,
   "metadata": {
    "collapsed": true
   },
   "outputs": [],
   "source": [
    "def randomWalk(Bz):\n",
    "    \"\"\"\n",
    "    returns a vector with Bz values that have diffused over time. Each step is 1 microsecond\n",
    "    so in practice, each consequtive measurement pulls its DeltaBz from every fourth\n",
    "    value in the vector\n",
    "    \n",
    "    Parameters:\n",
    "        Bz: Initial value of DeltaBz in the model (in MHz)\n",
    "    \"\"\"\n",
    "    D = 7*10**(-6) # need to change from kHz^2 to MHz^2\n",
    "    \n",
    "    steps = 10000 # This allows for plenty of time to make ~100 measurements\n",
    "    BzDiffused = np.empty(steps)\n",
    "    BzDiffused[0] = Bz\n",
    "    sigma = np.sqrt(2*D)\n",
    "    for t in range(1,steps):\n",
    "        BzDiffused[t] = np.random.normal(BzDiffused[t-1], sigma)\n",
    "    return BzDiffused"
   ]
  },
  {
   "cell_type": "code",
   "execution_count": 4,
   "metadata": {
    "collapsed": true
   },
   "outputs": [],
   "source": [
    "def measurementDriftDiffusion(BzDiffused,t,drift,k):\n",
    "    \"\"\"\n",
    "    returns either +1 or -1 with probability determined by the model for qubit evolution\n",
    "    and projective measurement\n",
    "    \n",
    "    Parameters:\n",
    "        BzDiffused: A vector of Bz values at 1 microsecond increments(in MHz)\n",
    "        t: evolution time between state preparation and measurement (in nanoseconds)\n",
    "        drift: rate of drift of DeltaBz in kHz/us\n",
    "        k: measurement index\n",
    "    \"\"\"\n",
    "    alpha=0.25\n",
    "    beta=0.67\n",
    "    driftHzs = drift*10**9 #units of Hz/s\n",
    "    timePerMeasurement = 4*10**(-6)\n",
    "    \n",
    "    \n",
    "    BzHertz = BzDiffused[4*k]*10**6 # each measurement looks at every 4th value of BzDiffused\n",
    "                                    # since a measurement takes 4 microseconds\n",
    "    tseconds = t*10**(-9)\n",
    "    \n",
    "    BzCurrent = BzHertz - driftHzs*timePerMeasurement*(k-1)\n",
    "    pPlus = 1/2*(1+(alpha+beta*np.cos(2*pi*BzCurrent*tseconds)))\n",
    "    x = np.random.rand(1)[0]\n",
    "    if (pPlus > x):\n",
    "        x = 1\n",
    "    else:\n",
    "        x = -1\n",
    "    return x"
   ]
  },
  {
   "cell_type": "markdown",
   "metadata": {},
   "source": [
    "# Likelihood function"
   ]
  },
  {
   "cell_type": "markdown",
   "metadata": {},
   "source": [
    "In some sense, obtaining a likelihood function from the model is straightforward because before projecting the state to + or -, our model gives probabilities of + or -. This means that to find the likelihood of a series of measurements, we can take the product of the probability that each measurement would result in the outcome that was actually obtained. This is complicated a bit by the fact that our parameters are changing between measurements in a non-deterministic way. Specifically, the diffusion means that we have uncertainty in our parameter $\\Delta B_z$ and that this uncertainty changes across the series of measurements. To account for this, I'll integrate my likelihood over the possible values of $\\Delta B_z$. Our parameters are thus the initial $\\Delta B_z$ and its drift, which together determine the mean value, and the diffusion constant that determines the variance of $\\Delta B_z$ values that we must integrate over to get the likelihood of each measurement."
   ]
  },
  {
   "cell_type": "markdown",
   "metadata": {},
   "source": [
    "The likelihood of a single measurement given a value of $\\Delta B_z$ is given by \n",
    "\n",
    "$$P(m_k|\\Delta B_z)=\\frac{1}{2}[1+m_k(\\alpha+\\beta\\cos(2\\pi\\Delta B_zt))]$$\n",
    "\n",
    "However, since we are saying that $\\Delta B_z$ drifts at some rate per measurement time, $v$, we should say,\n",
    "\n",
    "$$P(m_k|\\Delta B_z)=\\frac{1}{2}[1+m_k(\\alpha+\\beta\\cos(2\\pi(\\Delta B_z+vk)t)]$$\n",
    "\n",
    "Finally, the diffusion of $\\Delta B_z$ with a diffusion constant per measurement time, $D$, means that we can say there is a distribution for $\\Delta B_z$ at each measurement given by,\n",
    "\n",
    "$$\\Delta B_{z_k}=\\frac{1}{\\sqrt{4\\pi Dk}}e^{-[\\Delta B_{z_k}-(\\Delta B_{z_0}+vk)]^2/4Dk}$$"
   ]
  },
  {
   "cell_type": "markdown",
   "metadata": {},
   "source": [
    "Combining everything we have for a single measurement, we have,\n",
    "\n",
    "$$P(m_k|\\Delta B_{z_0},v,D)=\\int_{-\\infty}^\\infty\\frac{1}{\\sqrt{4\\pi Dk}}e^{-[\\Delta B_{z_k}-(\\Delta B_{z_0}+vk)]^2/4Dk}\\frac{1}{2}[1+m_k(\\alpha+\\beta\\cos(2\\pi(\\Delta B_z+vk)t)]d\\Delta B_{z_k}$$\n"
   ]
  },
  {
   "cell_type": "markdown",
   "metadata": {},
   "source": [
    "Finally, we can write the likelihood for a series of measurements as,\n",
    "\n",
    "$$P(\\{m\\}|\\Delta B_{z_0},v,D)=\\prod_k\\int_{-\\infty}^\\infty\\frac{1}{\\sqrt{4\\pi Dk}}e^{-[\\Delta B_{z_k}-(\\Delta B_{z_0}+vk)]^2/4Dk}\\frac{1}{2}[1+m_k(\\alpha+\\beta\\cos(2\\pi(\\Delta B_{z_0}+vk)t)]d\\Delta B_{z_k}$$"
   ]
  },
  {
   "cell_type": "markdown",
   "metadata": {},
   "source": [
    "To actually implement this, we can evaluate the Gaussian integral for $P(m_k|\\Delta B_{z_0},v,D)$. This is done by decomposing the cosine term into exponentials and then integrating the complex Gaussian analytically. If we say that the current value of $\\Delta B_z$ taking into account just the initial value and drift is $\\Delta B_{zc}$, then we have,\n",
    "\n",
    "$$P(m_k|\\Delta B_{zc},v,D)=\\int_{-\\infty}^\\infty\\frac{1}{\\sqrt{4\\pi Dk}}e^{-[\\Delta B_{z_k}-\\Delta B_{zc}]^2/4Dk}\\frac{1}{2}[1+m_k(\\alpha+\\beta\\cos(2\\pi\\Delta B_{zc}t)]d\\Delta B_{z_k}$$\n",
    "$$=\\frac{1}{2}\\sqrt{2Dk}e^{-(2\\pi t)^2(2Dk)/2}\\beta m_k\\cos(2\\pi\\Delta B_{zc}t)+\\frac{1}{2}\\left(1+\\alpha*m_k\\right)$$"
   ]
  },
  {
   "cell_type": "markdown",
   "metadata": {},
   "source": [
    "We can code this up by making a loop that updates the value of $\\Delta B_{zc}$ and $\\sqrt{2Dk}$ for each measurement and then multiplies the likelihood of that measurement to the total likelihood of the data."
   ]
  },
  {
   "cell_type": "code",
   "execution_count": 5,
   "metadata": {
    "collapsed": true
   },
   "outputs": [],
   "source": [
    "def likelihood(MetaSeries,Bz):\n",
    "    alpha = MetaSeries.alpha\n",
    "    beta = MetaSeries.beta\n",
    "    drift = MetaSeries.drift*10**9\n",
    "    diffusion = MetaSeries.diffusion*10**(-6)\n",
    "    BzHertz = Bz*10**6\n",
    "    \n",
    "    timePerMeasurement = 4*10**(-6)\n",
    "    \n",
    "    likelihood=1\n",
    "    \n",
    "    for i in range(len(MetaSeries)):\n",
    "        k = MetaSeries[i,0]+1\n",
    "        tk = MetaSeries[i,1]*10**(-9)\n",
    "        mk = MetaSeries[i,2]\n",
    "        \n",
    "        BzCurrent = BzHertz - drift*timePerMeasurement*(k+1)\n",
    "        sigma = np.sqrt(2*diffusion*4*k)\n",
    "        \n",
    "        likelihoodmk = 1/2*beta*mk*sigma*np.exp(-(2*pi*tk)**2*sigma**2/2)*np.cos(2*pi*BzCurrent*tk)+(1+mk*alpha)/2\n",
    "        likelihood = likelihood*likelihoodmk\n",
    "    return likelihood"
   ]
  },
  {
   "cell_type": "markdown",
   "metadata": {},
   "source": [
    "# Sample Inference"
   ]
  },
  {
   "cell_type": "markdown",
   "metadata": {},
   "source": [
    "First, I'll load a sample dataset generated with a $\\Delta B_z$ of 60MHz."
   ]
  },
  {
   "cell_type": "code",
   "execution_count": 6,
   "metadata": {
    "collapsed": false
   },
   "outputs": [],
   "source": [
    "test = myio.loadData('singleSeries.csv')"
   ]
  },
  {
   "cell_type": "code",
   "execution_count": 7,
   "metadata": {
    "collapsed": false
   },
   "outputs": [
    {
     "data": {
      "text/plain": [
       "<matplotlib.text.Text at 0x1013269e8>"
      ]
     },
     "execution_count": 7,
     "metadata": {},
     "output_type": "execute_result"
    },
    {
     "data": {
      "image/png": "[encoded data removed]",
      "text/plain": [
       "<matplotlib.figure.Figure at 0x10d9a3358>"
      ]
     },
     "metadata": {},
     "output_type": "display_data"
    }
   ],
   "source": [
    "Bz = np.linspace(40,80,100)\n",
    "plt.plot(Bz,likelihood(test,Bz))\n",
    "plt.title('Likelihood')\n",
    "plt.xlabel(r'$\\Delta B_z\\,\\,(MHz)$')"
   ]
  },
  {
   "cell_type": "markdown",
   "metadata": {},
   "source": [
    "# Fourier Representation"
   ]
  },
  {
   "cell_type": "markdown",
   "metadata": {},
   "source": [
    "## Product as a sum"
   ]
  },
  {
   "cell_type": "markdown",
   "metadata": {},
   "source": [
    "Repeatedly using the identity $\\cos(a)\\cos(b)=\\frac{1}{2}\\left[\\cos(a+b)+\\cos(a-b)\\right]$, we can transform the posterior from a product to a sum.\n",
    "\n",
    "$$P_k(\\Delta B_z|\\{m\\})=A\\,P_0(\\Delta B_z)\\prod_{i=1}^k P_i(m_i|\\Delta B_z)=A\\sum_{q=-K}^K c_k(q)\\cos(2\\pi\\tau q\\Delta B_z)\n",
    "$$\n",
    "\n",
    "where $A$ is just a normalization constant, $P_0(\\Delta B_z)$ is the uniform prior, and $K=\\sum_{i=1}^k m_i$ represents the maximum number of terms necessary to represent the posterior exactly.\n",
    "The posterior can easily be normalized in the Fourier picture by dividing through by $\\frac{c_k(0)}{2\\tau}$ to yield,\n",
    "$$P_k(\\Delta B_z|\\{m\\})=\\sum_{q=-K}^K \\frac{c_k(q)}{2\\tau c_k(0)}\\cos(2\\pi\\tau q\\Delta B_z)\n",
    "$$"
   ]
  },
  {
   "cell_type": "markdown",
   "metadata": {
    "collapsed": true
   },
   "source": [
    "## Iterative update"
   ]
  },
  {
   "cell_type": "markdown",
   "metadata": {
    "collapsed": false
   },
   "source": [
    "The coefficients can be updated after each measurement since each coeffient will just depend on its previous value and the coefficients connected to it by the $(a+b)$ and $(a-b)$ in the cosine identity. Thus,\n",
    "$$\n",
    "c_{k+1}(q)=(1 + m_{k+1}\\alpha)c_{k}(q) + m_{k+1}\\beta [c_{k}(q+n_{k+1})+ c_{k}(q-n_{k+1})]\n",
    "$$\n",
    "\n",
    "This can be implemented efficiently by treating the coefficients as vectors and just using index shifts to do the update."
   ]
  },
  {
   "cell_type": "markdown",
   "metadata": {
    "collapsed": false
   },
   "source": [
    "## Drift and diffusion"
   ]
  },
  {
   "cell_type": "markdown",
   "metadata": {
    "collapsed": false
   },
   "source": [
    "The drift and diffusion can be handled in the Fourier representation simply by taking the Fourier transform of the drift and diffusion operators. For the drift operator, $\\Delta B_z\\rightarrow\\Delta B_z+v\\Delta t$ acting on the Fourier coefficients is,\n",
    "$$\n",
    "c(q)\\rightarrow e^{-i(2\\pi \\tau q)v\\Delta t}c(q)\n",
    "$$\n",
    "where $\\tau$ is the minimum measurement time which sets the bandwidth of the experiment. A reasonable value for $\\tau$ is 10 ns which gives a bandwidth of 50 MHz.\n",
    "The diffusion operator for the Fourier coefficients is,\n",
    "$$\n",
    "c(q)\\rightarrow e^{-D(2\\pi \\tau q)^2\\Delta t}c(q)\n",
    "$$\n",
    "This makes the total coefficient update,\n",
    "$$\n",
    "c_{k+1}(q)=e^{-D(2\\pi \\tau q)^2\\Delta t-i(2\\pi \\tau q)v\\Delta t} \\{(1 + m_{k+1}\\alpha)c_{k}(q) + m_{k+1}\\beta [c_{k}(q+n_{k+1})+ c_{k}(q-n_{k+1})]\\}\n",
    "$$"
   ]
  },
  {
   "cell_type": "markdown",
   "metadata": {},
   "source": [
    "# Expectation values"
   ]
  },
  {
   "cell_type": "markdown",
   "metadata": {
    "collapsed": true
   },
   "source": [
    "## Expected ΔBz"
   ]
  },
  {
   "cell_type": "markdown",
   "metadata": {
    "collapsed": false
   },
   "source": [
    "Evaluating expectation values from the posterior is now the convolution of the posterior with the quantity to be averaged. For example,\n",
    "\\begin{equation}\n",
    "\\left<\\Delta B_z\\right>=\\int_{\\frac{1}{2\\tau}}^{\\frac{2}{2\\tau}}\\Delta B_zP_k(\\Delta B_z|\\{m\\})d\\Delta B_z\n",
    "\\end{equation}\n",
    "where the limits of integration are designed to be span the bandwidth of the Fourier series, 50 MHz, with bounds determined by the prior which is uniform and nonzero from 50 MHz to 100 MHz. This yields the desired result of converting to the Fourier domain. The convolution integral can be expressed as the sum of the product of $\\Delta B_z$ and $P_k(\\Delta B_z|\\{m\\})$ Fourier coefficients. Using the fact that the Fourier coefficients of $\\Delta B_z$ are $c_{\\Delta B_z}(q)=\\frac{(-1)^q-1}{(\\pi q)^2}$ and the boundary conditions gives,\n",
    "\\begin{equation}\n",
    "\\begin{aligned}\n",
    "\\left<\\Delta B_z\\right>= & \\frac{\\left(\\frac{2}{2\\tau}\\right)^2-\\left(\\frac{1}{2\\tau}\\right)^2}{\\left(2*\\frac{1}{2\\tau}\\right)}-\\sum_{q=-K,\\,q\\ne0}^{K}\\frac{c_k(q)}{2\\tau c_k(0)}\\frac{(-1)^q-1}{(\\pi q)^2} \\\\\n",
    " =&  \\frac{3}{4\\tau}-\\sum_{q=-K,\\,q\\ne0}^{K}\\frac{c_k(q)}{2\\tau c_k(0)}\\frac{(-1)^q-1}{(\\pi q)^2}\n",
    " \\end{aligned}\n",
    "\\end{equation}"
   ]
  },
  {
   "cell_type": "markdown",
   "metadata": {
    "collapsed": true
   },
   "source": [
    "## Expected variance"
   ]
  },
  {
   "cell_type": "markdown",
   "metadata": {
    "collapsed": false
   },
   "source": [
    "A very similar technique can be used to calculate $\\left<\\Delta B_z^2\\right>$ from just the Fourier coefficients using $c_{\\Delta B_z^2}(q)=\\frac{(-1)^q}{(\\pi q)^2}$. The quantity of interest, variance in $\\Delta B_z$, can be written as,\n",
    "\\begin{equation}\n",
    "\\begin{aligned}\n",
    "\\sigma^2_{\\Delta B_z}& =\\left<\\Delta B_z^2\\right>-\\left<\\Delta B_z\\right>^2 \\\\\n",
    " & =\\left[\\frac{1}{3*(2\\tau)^2}+\\sum_{q=-K,\\,q\\ne0}^{K}\\frac{c_q(-1)^q}{2\\tau^2c_0(q\\pi)^2}\\right]-\\left[\\frac{1}{2*2\\tau}+\\sum_{q=-K,\\,q\\ne0}^{K}\\frac{c_q[(-1)^q-1]}{2\\tau c_0(q\\pi)^2}\\right]^2\n",
    "\\end{aligned}\n",
    "\\end{equation}"
   ]
  },
  {
   "cell_type": "markdown",
   "metadata": {
    "collapsed": false
   },
   "source": [
    "# Adaptive evolution time algorithm"
   ]
  },
  {
   "cell_type": "markdown",
   "metadata": {
    "collapsed": false
   },
   "source": [
    "Because of the probabilistic nature of the measurement, it is impossible to know the variance that will be obtained after a particular measurement. However, after choosing an evolution time, the variance in either measurement outcome can be calculated and the expected value of the variance can be written as the weighted sum. Thus,\n",
    "\\begin{equation}\n",
    "\\left<\\sigma^2\\right>_{n_k}=\\frac{c_{n_k+}(0)\\sigma^2_{n_k+}+c_{n_k-}(0)\\sigma^2_{n_k-}}{c_{n_k+}(0)+c_{n_k-}(0)}\n",
    "\\end{equation}\n",
    "where $c_{n_k+}(0)$ is the zeroth Fourier coefficient after a measurement of + at time $n_k\\tau$ and $\\sigma^2_{n_k+}$ is the variance after that hypothetical measurement. Before each measurement, the algorithm iterates through the possible values of $n_k$ and calculates an expected variance. "
   ]
  }
 ],
 "metadata": {
  "kernelspec": {
   "display_name": "Python 3",
   "language": "python",
   "name": "python3"
  },
  "language_info": {
   "codemirror_mode": {
    "name": "ipython",
    "version": 3
   },
   "file_extension": ".py",
   "mimetype": "text/x-python",
   "name": "python",
   "nbconvert_exporter": "python",
   "pygments_lexer": "ipython3",
   "version": "3.5.1"
  }
 },
 "nbformat": 4,
 "nbformat_minor": 0
}
